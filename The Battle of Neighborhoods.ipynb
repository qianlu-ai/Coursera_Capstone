{
    "cells": [
        {
            "cell_type": "markdown",
            "metadata": {
                "collapsed": true
            },
            "source": "# The Battle of Neighborhoods"
        },
        {
            "cell_type": "markdown",
            "metadata": {},
            "source": "### Introduction/Business Problem "
        },
        {
            "cell_type": "markdown",
            "metadata": {},
            "source": "####  New York City has become in recent years, and due to its own excellence, the world\u2019s most important economic and cultural capital. The city\u2019s atmosphere and style of life are unique and they are best discovered by visiting and enjoying it in person. It's one of most popular cities for tourism and It also attracts a lot folks to live there. There is a huge market for food industry. So my object is to locate and recommend to the client which neighbourhood in New York City will be best choice to start a restaurant."
        },
        {
            "cell_type": "markdown",
            "metadata": {},
            "source": "### Data Section"
        },
        {
            "cell_type": "markdown",
            "metadata": {},
            "source": "#### Neighborhoods using FourSquare API & New York City data that contains list Boroughs, Neighbourhoods along with their latitude and longitude."
        },
        {
            "cell_type": "code",
            "execution_count": null,
            "metadata": {},
            "outputs": [],
            "source": ""
        }
    ],
    "metadata": {
        "kernelspec": {
            "display_name": "Python 3.6",
            "language": "python",
            "name": "python3"
        },
        "language_info": {
            "codemirror_mode": {
                "name": "ipython",
                "version": 3
            },
            "file_extension": ".py",
            "mimetype": "text/x-python",
            "name": "python",
            "nbconvert_exporter": "python",
            "pygments_lexer": "ipython3",
            "version": "3.6.9"
        }
    },
    "nbformat": 4,
    "nbformat_minor": 1
}